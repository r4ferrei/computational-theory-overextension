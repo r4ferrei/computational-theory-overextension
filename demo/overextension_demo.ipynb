{
 "cells": [
  {
   "cell_type": "markdown",
   "metadata": {},
   "source": [
    "# A Computational Theory of Child Overextension - Demo\n",
    "\n",
    "### By Renato Ferreira Pinto Junior"
   ]
  },
  {
   "cell_type": "markdown",
   "metadata": {},
   "source": [
    "This notebook demonstrates the multimodal semantic space and computational framework of child overextension presented in the paper:\n",
    "\n",
    "Ferreira Pinto, R., Jr., & Xu, Y. (2019). <em>A Computational Theory of Child Overextension</em>. Manuscript submitted for publication.\n",
    "\n",
    "We provide three computational demonstrations:\n",
    "\n",
    "* Word frequencies in child-directed speech, as a component of cognitive effort in overextension\n",
    "* Multimodal semantic space of concepts and retrieval of closest concepts in semantic space\n",
    "* Model predictions of child overextension for probe concepts, considering semantic relations and cognitive effort"
   ]
  },
  {
   "cell_type": "code",
   "execution_count": 1,
   "metadata": {
    "collapsed": true
   },
   "outputs": [],
   "source": [
    "import numpy as np\n",
    "import pandas as pd\n",
    "from nltk.corpus import wordnet as wn\n",
    "import matplotlib.pyplot as plt\n",
    "import seaborn as sn\n",
    "from pprint import pprint\n",
    "\n",
    "%matplotlib inline\n",
    "sn.set_context('paper', font_scale=1.5)"
   ]
  },
  {
   "cell_type": "markdown",
   "metadata": {},
   "source": [
    "## Load data sources"
   ]
  },
  {
   "cell_type": "markdown",
   "metadata": {},
   "source": [
    "This section loads the child vocabulary, list of all possible concepts (referents), and associated semantic features."
   ]
  },
  {
   "cell_type": "code",
   "execution_count": 2,
   "metadata": {},
   "outputs": [],
   "source": [
    "prod_vocab = pd.read_csv('filtered_prod_vocab.csv')  # productive vocabulary\n",
    "full_vocab = pd.read_csv('filtered_lexicon.csv')     # all words (productive vocabulary and referents)\n",
    "freq_data  = pd.read_csv('prod_vocab_rel_freqs.csv') # relative frequencies\n",
    "dists      = np.load('dist_matrix_square.npy')       # all distances in multimodal space: tensor of C x C x 3, where C = number of concepts\n",
    "dists_overextension = np.load('dist_matrix.npy')     # subset of distances relevant for overextension: only vocabulary in one dimension, all concepts in the other"
   ]
  },
  {
   "cell_type": "code",
   "execution_count": 3,
   "metadata": {
    "collapsed": true
   },
   "outputs": [],
   "source": [
    "# Build frequency dictionary.\n",
    "freq = {}\n",
    "for _, row in freq_data.iterrows():\n",
    "    freq[row['wordnet_synset']] = row['rel_freq']"
   ]
  },
  {
   "cell_type": "code",
   "execution_count": 4,
   "metadata": {
    "collapsed": true
   },
   "outputs": [],
   "source": [
    "# Function to look up words in vocabulary.\n",
    "def lookup_word(word, vocab):\n",
    "    for i, row in vocab.iterrows():\n",
    "        synset = wn.synset(row['wordnet_synset'])\n",
    "        lemmas = [l.name() for l in synset.lemmas()]\n",
    "        if word in lemmas:\n",
    "            return i\n",
    "    raise ValueError(\"'%s' not in vocabulary\" % word)\n",
    "\n",
    "# Function to look up word frequency.\n",
    "def word_frequency(word):\n",
    "    i = lookup_word(word, full_vocab)\n",
    "    wordnet = full_vocab.loc[i, 'wordnet_synset']\n",
    "    return freq[wordnet]"
   ]
  },
  {
   "cell_type": "markdown",
   "metadata": {},
   "source": [
    "## Word frequency in child-directed speech"
   ]
  },
  {
   "cell_type": "markdown",
   "metadata": {},
   "source": [
    "Here, we exemplify the differences in word frequency in child-directed speech within one domain (animals)."
   ]
  },
  {
   "cell_type": "code",
   "execution_count": 5,
   "metadata": {},
   "outputs": [
    {
     "data": {
      "text/plain": [
       "<matplotlib.text.Text at 0x1a1e377be0>"
      ]
     },
     "execution_count": 5,
     "metadata": {},
     "output_type": "execute_result"
    },
    {
     "data": {
      "image/png": "[encoded data removed]",
      "text/plain": [
       "<matplotlib.figure.Figure at 0x1a19176f60>"
      ]
     },
     "metadata": {},
     "output_type": "display_data"
    }
   ],
   "source": [
    "test_words_freq = ['dog', 'horse', 'pig', 'squirrel']\n",
    "freqs      = [word_frequency(w) for w in test_words_freq]\n",
    "\n",
    "plt.bar(range(len(test_words_freq)), freqs, tick_label=test_words_freq)\n",
    "plt.title('Word frequencies in child-directed speech')\n",
    "plt.ylabel('Relative frequemcy')"
   ]
  },
  {
   "cell_type": "markdown",
   "metadata": {},
   "source": [
    "Note how \"squirrel\" is much less frequent than \"dog\", for example, suggesting why \"dog\",\n",
    "an easier word for young children, can be overextended to squirrels in child speech."
   ]
  },
  {
   "cell_type": "markdown",
   "metadata": {},
   "source": [
    "## Exploring multimodal space"
   ]
  },
  {
   "cell_type": "markdown",
   "metadata": {},
   "source": [
    "We start by showing how different semantic relations in the multimodal space can collaborate to explain diverse conceptual leaps in overextension strategies.\n",
    "\n",
    "First, we define the sensitivity parameters (kernel widths) for the different slices of the multimodal space as presented in the paper. You can experiment with changing these parameters and re-evaluating the analyses to see how the model responds as it becomes more or less sensitive to semantic distance (smaller and larger kernel width, respectively)."
   ]
  },
  {
   "cell_type": "code",
   "execution_count": 6,
   "metadata": {
    "collapsed": true
   },
   "outputs": [],
   "source": [
    "kernel_width_multimodal = 0.43577904 # from paper, trained on production data\n",
    "kernel_width_cat        = 0.29509603\n",
    "kernel_width_vis        = 0.19985287\n",
    "kernel_width_pred       = 0.35533736"
   ]
  },
  {
   "cell_type": "code",
   "execution_count": 7,
   "metadata": {
    "collapsed": true
   },
   "outputs": [],
   "source": [
    "# Plot confusion matrix for any slice of multimodal space.\n",
    "def plot_confusion_matrix(test_words_multimodal, dists, kernel_width, title, ax):\n",
    "    word_ids = [lookup_word(w, full_vocab) for w in test_words_multimodal]\n",
    "    dist     = dists[word_ids,:,:][:,word_ids,:]\n",
    "    dist     = np.linalg.norm(dist, ord=2, axis=2)\n",
    "    sim      = np.exp(-np.square(dist) / kernel_width)\n",
    "    df       = pd.DataFrame(sim, index=test_words_multimodal, columns=test_words_multimodal)\n",
    "    sn.heatmap(df, annot=True, ax=ax, vmin=0, vmax=1)\n",
    "    ax.set_title(title)\n",
    "\n",
    "def plot_all_matrices(test_words_multimodal):\n",
    "    fig, axes = plt.subplots(2,2, figsize=(13,11))\n",
    "    plot_confusion_matrix(test_words_multimodal, dists,             kernel_width_multimodal, \"Multimodal space\",      axes[0,0])\n",
    "    plot_confusion_matrix(test_words_multimodal, dists[:,:,0,None], kernel_width_cat,        \"Categorical space\",     axes[0,1])\n",
    "    plot_confusion_matrix(test_words_multimodal, dists[:,:,1,None], kernel_width_vis,        \"Visual space\",          axes[1,0])\n",
    "    plot_confusion_matrix(test_words_multimodal, dists[:,:,2,None], kernel_width_pred,       \"Predicate-based space\", axes[1,1])"
   ]
  },
  {
   "cell_type": "markdown",
   "metadata": {},
   "source": [
    "Here, we show the distances in the full multimodal space, and broken down by individual semantic relation, for three concepts: apple, egg, and chicken. You can experiment running this section with different concepts to see how they relate in semantic space."
   ]
  },
  {
   "cell_type": "code",
   "execution_count": 8,
   "metadata": {
    "scrolled": false
   },
   "outputs": [
    {
     "data": {
      "image/png": "[encoded data removed]",
      "text/plain": [
       "<matplotlib.figure.Figure at 0x1a1e35ff28>"
      ]
     },
     "metadata": {},
     "output_type": "display_data"
    }
   ],
   "source": [
    "plot_all_matrices(['apple', 'egg', 'chicken'])"
   ]
  },
  {
   "cell_type": "markdown",
   "metadata": {},
   "source": [
    "We can see that different semantic relations show complementary information about how these concepts relate to each other. For example, apple and egg relate most closely in visual space, since both are round objects. Due to this relation, they are also the closest pair of distinct concepts in multimodal space. The second pair of notice, chicken and egg, also display relative similarity due to their closeness in predicate space."
   ]
  },
  {
   "cell_type": "markdown",
   "metadata": {},
   "source": [
    "### Fine-grained retrieval of semantically-related concepts\n",
    "\n",
    "We can also retrieve, given a query concept, the concepts in our repertoire that most closely relate to it in the full multimodal space. The following analysis implements this idea."
   ]
  },
  {
   "cell_type": "code",
   "execution_count": 9,
   "metadata": {
    "collapsed": true
   },
   "outputs": [],
   "source": [
    "def closest_in_space(word, dists, top_k=7):\n",
    "    word_id = lookup_word(word, full_vocab)\n",
    "    dist = dists[:, word_id, :].sum(axis=1)\n",
    "    ids  = np.argsort(dist)\n",
    "    top  = list(ids[:top_k])\n",
    "    if word_id in top: top.remove(word_id)\n",
    "    res  = [full_vocab.loc[t, 'wordnet_synset'] for t in top]\n",
    "    res  = [wn.synset(s).lemmas()[0].name() for s in res]\n",
    "    return res"
   ]
  },
  {
   "cell_type": "code",
   "execution_count": 10,
   "metadata": {
    "collapsed": true
   },
   "outputs": [],
   "source": [
    "def print_closest_in_space(word):\n",
    "    print('----------- Word: %s -----------' % word)\n",
    "    print('Multimodal:\\t\\t{}'.format(\n",
    "        closest_in_space(word, dists)))    \n",
    "    print('Categorical:\\t\\t{}'.format(\n",
    "        closest_in_space(word, dists[:,:,0,None])))\n",
    "    print('Visual:\\t\\t\\t{}'.format(\n",
    "        closest_in_space(word, dists[:,:,1,None])))\n",
    "    print('Predicate-based:\\t{}'.format(\n",
    "        closest_in_space(word, dists[:,:,2,None])))"
   ]
  },
  {
   "cell_type": "markdown",
   "metadata": {},
   "source": [
    "The following examples show retrieval results for four concepts: apple, door, dog, and ball. In each case, we show retrievals from the multimodal space, as well as from each individual semantic relation. Notice how these dimensions contribute complementary retrievals toward the multimodal query, which displays a variety of concepts related to the query via diverse relations."
   ]
  },
  {
   "cell_type": "code",
   "execution_count": 11,
   "metadata": {},
   "outputs": [
    {
     "name": "stdout",
     "output_type": "stream",
     "text": [
      "----------- Word: apple -----------\n",
      "Multimodal:\t\t['pear', 'fruit', 'grape', 'plum', 'orange', 'peach']\n",
      "Categorical:\t\t['pear', 'fruit', 'plum', 'nut', 'melon', 'peach']\n",
      "Visual:\t\t\t['peach', 'plum', 'pear', 'vitamin', 'fruit', 'melon']\n",
      "Predicate-based:\t['orange', 'pear', 'fruit', 'grape', 'juice', 'banana']\n"
     ]
    }
   ],
   "source": [
    "print_closest_in_space('apple')"
   ]
  },
  {
   "cell_type": "code",
   "execution_count": 12,
   "metadata": {},
   "outputs": [
    {
     "name": "stdout",
     "output_type": "stream",
     "text": [
      "----------- Word: door -----------\n",
      "Multimodal:\t\t['window', 'porch', 'garage', 'cupboard', 'basement', 'shutter']\n",
      "Categorical:\t\t['porch', 'dwelling', 'basement', 'house', 'school', 'tooth']\n",
      "Visual:\t\t\t['window', 'garage', 'basement', 'stairs', 'school', 'shutter']\n",
      "Predicate-based:\t['window', 'key', 'cupboard', 'shutter', 'porch', 'rear']\n"
     ]
    }
   ],
   "source": [
    "print_closest_in_space('door')"
   ]
  },
  {
   "cell_type": "code",
   "execution_count": 13,
   "metadata": {},
   "outputs": [
    {
     "name": "stdout",
     "output_type": "stream",
     "text": [
      "----------- Word: dog -----------\n",
      "Multimodal:\t\t['puppy', 'animal', 'cat', 'coyote', 'wolf', 'bear']\n",
      "Categorical:\t\t['fox', 'wolf', 'hyena', 'puppy', 'coyote', 'bear']\n",
      "Visual:\t\t\t['puppy', 'animal', 'goat', 'menagerie', 'head', 'horse']\n",
      "Predicate-based:\t['puppy', 'cat', 'hand', 'kitten', 'coyote', 'kitty']\n"
     ]
    }
   ],
   "source": [
    "print_closest_in_space('dog')"
   ]
  },
  {
   "cell_type": "code",
   "execution_count": 14,
   "metadata": {},
   "outputs": [
    {
     "name": "stdout",
     "output_type": "stream",
     "text": [
      "----------- Word: ball -----------\n",
      "Multimodal:\t\t['game', 'marble', 'skate', 'basket', 'toy', 'balloon']\n",
      "Categorical:\t\t['marble', 'game', 'puzzle', 'telephone', 'skate', 'camera']\n",
      "Visual:\t\t\t['game', 'chewing_gum', 'egg', 'ellipse', 'light', 'circle']\n",
      "Predicate-based:\t['bat', 'game', 'basket', 'rocket', 'balloon', 'balloon']\n"
     ]
    }
   ],
   "source": [
    "print_closest_in_space('ball')"
   ]
  },
  {
   "cell_type": "markdown",
   "metadata": {},
   "source": [
    "## Model predictions of overextension"
   ]
  },
  {
   "cell_type": "markdown",
   "metadata": {},
   "source": [
    "Here, we apply the predictive model of child overextension (in production) by jointly considering cognitive effort encoded as word frequency (prior) and semantic relations (likelihood) in a probabilistic model."
   ]
  },
  {
   "cell_type": "code",
   "execution_count": 15,
   "metadata": {
    "collapsed": true
   },
   "outputs": [],
   "source": [
    "word_freqs = np.array([freq[w] for w in prod_vocab['wordnet_synset'].values])\n",
    "\n",
    "def predict_production(referent, dists, kernel_width, top_k=7):\n",
    "    word_id = lookup_word(referent, full_vocab)\n",
    "    dist = dists[:, word_id, :]\n",
    "    dist = np.linalg.norm(dist, ord=2, axis=1)\n",
    "    sim  = np.exp(-np.square(dist) / kernel_width)\n",
    "    prob = sim * word_freqs\n",
    "    ids  = np.argsort(-prob)\n",
    "    top  = ids[:top_k]\n",
    "    res  = [prod_vocab.loc[t, 'wordnet_synset'] for t in top]\n",
    "    res  = [wn.synset(s).lemmas()[0].name() for s in res]\n",
    "    return res"
   ]
  },
  {
   "cell_type": "code",
   "execution_count": 16,
   "metadata": {
    "collapsed": true
   },
   "outputs": [],
   "source": [
    "def print_all_predictions(word):\n",
    "    print('----------- Referent: %s -----------' % word)\n",
    "    print('Multimodal:\\t\\t{}'.format(\n",
    "        predict_production(word, dists_overextension, kernel_width_multimodal)))    \n",
    "    print('Categorical:\\t\\t{}'.format(\n",
    "        predict_production(word, dists_overextension[:,:,0,None], kernel_width_cat)))\n",
    "    print('Visual:\\t\\t\\t{}'.format(\n",
    "        predict_production(word, dists_overextension[:,:,1,None], kernel_width_vis)))\n",
    "    print('Predicate-based:\\t{}'.format(\n",
    "        predict_production(word, dists_overextension[:,:,2,None], kernel_width_pred)))"
   ]
  },
  {
   "cell_type": "markdown",
   "metadata": {},
   "source": [
    "The following examples show top 7 model productions for a variery of query concepts; you can try running these queries with other concepts as well.\n",
    "\n",
    "Notice how the top multimodal productions draw from different semantic relations, such as by relating <em>ball</em> to baloon and grape, <em>dog</em> to squirrel, or <em>foot</em> to shoe."
   ]
  },
  {
   "cell_type": "code",
   "execution_count": 17,
   "metadata": {},
   "outputs": [
    {
     "name": "stdout",
     "output_type": "stream",
     "text": [
      "----------- Referent: squirrel -----------\n",
      "Multimodal:\t\t['animal', 'baby', 'kitten', 'bunny', 'kitty', 'dog', 'cat']\n",
      "Categorical:\t\t['baby', 'animal', 'dog', 'son', 'kitty', 'book', 'bunny']\n",
      "Visual:\t\t\t['baby', 'animal', 'book', 'bunny', 'kitten', 'ball', 'kitty']\n",
      "Predicate-based:\t['baby', 'animal', 'kitten', 'hand', 'book', 'dog', 'kitty']\n"
     ]
    }
   ],
   "source": [
    "print_all_predictions('squirrel')"
   ]
  },
  {
   "cell_type": "code",
   "execution_count": 18,
   "metadata": {
    "scrolled": true
   },
   "outputs": [
    {
     "name": "stdout",
     "output_type": "stream",
     "text": [
      "----------- Referent: grape -----------\n",
      "Multimodal:\t\t['apple', 'juice', 'grape', 'baby', 'orange', 'cheese', 'ball']\n",
      "Categorical:\t\t['baby', 'book', 'ball', 'apple', 'cheese', 'toy', 'son']\n",
      "Visual:\t\t\t['baby', 'ball', 'toy', 'egg', 'book', 'son', 'juice']\n",
      "Predicate-based:\t['juice', 'baby', 'apple', 'book', 'grape', 'ball', 'food']\n"
     ]
    }
   ],
   "source": [
    "print_all_predictions('grape')"
   ]
  },
  {
   "cell_type": "code",
   "execution_count": 19,
   "metadata": {},
   "outputs": [
    {
     "name": "stdout",
     "output_type": "stream",
     "text": [
      "----------- Referent: balloon -----------\n",
      "Multimodal:\t\t['ball', 'balloon', 'toy', 'baby', 'book', 'car', 'box']\n",
      "Categorical:\t\t['car', 'book', 'ball', 'baby', 'toy', 'box', 'shoe']\n",
      "Visual:\t\t\t['ball', 'baby', 'toy', 'book', 'juice', 'egg', 'chair']\n",
      "Predicate-based:\t['ball', 'baby', 'toy', 'balloon', 'book', 'son', 'juice']\n"
     ]
    }
   ],
   "source": [
    "print_all_predictions('balloon')"
   ]
  },
  {
   "cell_type": "code",
   "execution_count": 20,
   "metadata": {
    "scrolled": true
   },
   "outputs": [
    {
     "name": "stdout",
     "output_type": "stream",
     "text": [
      "----------- Referent: goose -----------\n",
      "Multimodal:\t\t['duck', 'bird', 'goose', 'baby', 'animal', 'chicken', 'dog']\n",
      "Categorical:\t\t['baby', 'duck', 'animal', 'son', 'book', 'bird', 'dog']\n",
      "Visual:\t\t\t['baby', 'duck', 'ball', 'animal', 'toy', 'book', 'water']\n",
      "Predicate-based:\t['duck', 'baby', 'egg', 'book', 'ball', 'ma', 'bird']\n"
     ]
    }
   ],
   "source": [
    "print_all_predictions('goose')"
   ]
  },
  {
   "cell_type": "code",
   "execution_count": 21,
   "metadata": {},
   "outputs": [
    {
     "name": "stdout",
     "output_type": "stream",
     "text": [
      "----------- Referent: dome -----------\n",
      "Multimodal:\t\t['ball', 'baby', 'book', 'hat', 'house', 'dwelling', 'box']\n",
      "Categorical:\t\t['book', 'baby', 'shoe', 'ball', 'toy', 'car', 'house']\n",
      "Visual:\t\t\t['baby', 'ball', 'book', 'house', 'dwelling', 'animal', 'toy']\n",
      "Predicate-based:\t['baby', 'ball', 'book', 'box', 'car', 'hat', 'house']\n"
     ]
    }
   ],
   "source": [
    "print_all_predictions('dome')"
   ]
  },
  {
   "cell_type": "code",
   "execution_count": 22,
   "metadata": {},
   "outputs": [
    {
     "name": "stdout",
     "output_type": "stream",
     "text": [
      "----------- Referent: shoe -----------\n",
      "Multimodal:\t\t['shoe', 'baby', 'box', 'ball', 'book', 'sock', 'toy']\n",
      "Categorical:\t\t['book', 'shoe', 'baby', 'ball', 'toy', 'car', 'house']\n",
      "Visual:\t\t\t['baby', 'shoe', 'ball', 'book', 'toy', 'box', 'chair']\n",
      "Predicate-based:\t['shoe', 'foot', 'baby', 'book', 'box', 'ball', 'sock']\n"
     ]
    }
   ],
   "source": [
    "print_all_predictions('shoe')"
   ]
  },
  {
   "cell_type": "code",
   "execution_count": null,
   "metadata": {
    "collapsed": true
   },
   "outputs": [],
   "source": []
  }
 ],
 "metadata": {
  "kernelspec": {
   "display_name": "Python 3",
   "language": "python",
   "name": "python3"
  },
  "language_info": {
   "codemirror_mode": {
    "name": "ipython",
    "version": 3
   },
   "file_extension": ".py",
   "mimetype": "text/x-python",
   "name": "python",
   "nbconvert_exporter": "python",
   "pygments_lexer": "ipython3",
   "version": "3.6.8"
  }
 },
 "nbformat": 4,
 "nbformat_minor": 2
}
